{
  "nbformat": 4,
  "nbformat_minor": 0,
  "metadata": {
    "colab": {
      "provenance": [],
      "gpuType": "T4"
    },
    "kernelspec": {
      "name": "python3",
      "display_name": "Python 3"
    },
    "language_info": {
      "name": "python"
    },
    "widgets": {
      "application/vnd.jupyter.widget-state+json": {
        "f19acad7ed644bc1aee3913e0565fe99": {
          "model_module": "@jupyter-widgets/controls",
          "model_name": "HBoxModel",
          "model_module_version": "1.5.0",
          "state": {
            "_dom_classes": [],
            "_model_module": "@jupyter-widgets/controls",
            "_model_module_version": "1.5.0",
            "_model_name": "HBoxModel",
            "_view_count": null,
            "_view_module": "@jupyter-widgets/controls",
            "_view_module_version": "1.5.0",
            "_view_name": "HBoxView",
            "box_style": "",
            "children": [
              "IPY_MODEL_9ba9e2edf7f84ce3b5c1f2b30d276d9d",
              "IPY_MODEL_a4aa482d4c254bde85f5d7245afac0c0",
              "IPY_MODEL_9ea15849f7944e5597decf9cd21efc0e"
            ],
            "layout": "IPY_MODEL_e7b382aa5fc8431792b513a6d93f8b36"
          }
        },
        "9ba9e2edf7f84ce3b5c1f2b30d276d9d": {
          "model_module": "@jupyter-widgets/controls",
          "model_name": "HTMLModel",
          "model_module_version": "1.5.0",
          "state": {
            "_dom_classes": [],
            "_model_module": "@jupyter-widgets/controls",
            "_model_module_version": "1.5.0",
            "_model_name": "HTMLModel",
            "_view_count": null,
            "_view_module": "@jupyter-widgets/controls",
            "_view_module_version": "1.5.0",
            "_view_name": "HTMLView",
            "description": "",
            "description_tooltip": null,
            "layout": "IPY_MODEL_535f2583e300466fafc2735b760d85c5",
            "placeholder": "​",
            "style": "IPY_MODEL_5eeb49e7a8254bda82ff61cbd5899855",
            "value": "100%"
          }
        },
        "a4aa482d4c254bde85f5d7245afac0c0": {
          "model_module": "@jupyter-widgets/controls",
          "model_name": "FloatProgressModel",
          "model_module_version": "1.5.0",
          "state": {
            "_dom_classes": [],
            "_model_module": "@jupyter-widgets/controls",
            "_model_module_version": "1.5.0",
            "_model_name": "FloatProgressModel",
            "_view_count": null,
            "_view_module": "@jupyter-widgets/controls",
            "_view_module_version": "1.5.0",
            "_view_name": "ProgressView",
            "bar_style": "success",
            "description": "",
            "description_tooltip": null,
            "layout": "IPY_MODEL_b6b9690845804397bdcaaa9336b796cc",
            "max": 191,
            "min": 0,
            "orientation": "horizontal",
            "style": "IPY_MODEL_44b6cad9b033468ab1d67862edc09ec3",
            "value": 191
          }
        },
        "9ea15849f7944e5597decf9cd21efc0e": {
          "model_module": "@jupyter-widgets/controls",
          "model_name": "HTMLModel",
          "model_module_version": "1.5.0",
          "state": {
            "_dom_classes": [],
            "_model_module": "@jupyter-widgets/controls",
            "_model_module_version": "1.5.0",
            "_model_name": "HTMLModel",
            "_view_count": null,
            "_view_module": "@jupyter-widgets/controls",
            "_view_module_version": "1.5.0",
            "_view_name": "HTMLView",
            "description": "",
            "description_tooltip": null,
            "layout": "IPY_MODEL_bd2d1d877a0f4c6db30a33ff972e3a68",
            "placeholder": "​",
            "style": "IPY_MODEL_8ad6a33f4c654cb89302b75d07c80517",
            "value": " 191/191 [05:08&lt;00:00,  1.52s/it, Epoch=1, Training Loss=0.0467, Mean IOU Train=0.25, Mean DICE Train=0.501]"
          }
        },
        "e7b382aa5fc8431792b513a6d93f8b36": {
          "model_module": "@jupyter-widgets/base",
          "model_name": "LayoutModel",
          "model_module_version": "1.2.0",
          "state": {
            "_model_module": "@jupyter-widgets/base",
            "_model_module_version": "1.2.0",
            "_model_name": "LayoutModel",
            "_view_count": null,
            "_view_module": "@jupyter-widgets/base",
            "_view_module_version": "1.2.0",
            "_view_name": "LayoutView",
            "align_content": null,
            "align_items": null,
            "align_self": null,
            "border": null,
            "bottom": null,
            "display": null,
            "flex": null,
            "flex_flow": null,
            "grid_area": null,
            "grid_auto_columns": null,
            "grid_auto_flow": null,
            "grid_auto_rows": null,
            "grid_column": null,
            "grid_gap": null,
            "grid_row": null,
            "grid_template_areas": null,
            "grid_template_columns": null,
            "grid_template_rows": null,
            "height": null,
            "justify_content": null,
            "justify_items": null,
            "left": null,
            "margin": null,
            "max_height": null,
            "max_width": null,
            "min_height": null,
            "min_width": null,
            "object_fit": null,
            "object_position": null,
            "order": null,
            "overflow": null,
            "overflow_x": null,
            "overflow_y": null,
            "padding": null,
            "right": null,
            "top": null,
            "visibility": null,
            "width": null
          }
        },
        "535f2583e300466fafc2735b760d85c5": {
          "model_module": "@jupyter-widgets/base",
          "model_name": "LayoutModel",
          "model_module_version": "1.2.0",
          "state": {
            "_model_module": "@jupyter-widgets/base",
            "_model_module_version": "1.2.0",
            "_model_name": "LayoutModel",
            "_view_count": null,
            "_view_module": "@jupyter-widgets/base",
            "_view_module_version": "1.2.0",
            "_view_name": "LayoutView",
            "align_content": null,
            "align_items": null,
            "align_self": null,
            "border": null,
            "bottom": null,
            "display": null,
            "flex": null,
            "flex_flow": null,
            "grid_area": null,
            "grid_auto_columns": null,
            "grid_auto_flow": null,
            "grid_auto_rows": null,
            "grid_column": null,
            "grid_gap": null,
            "grid_row": null,
            "grid_template_areas": null,
            "grid_template_columns": null,
            "grid_template_rows": null,
            "height": null,
            "justify_content": null,
            "justify_items": null,
            "left": null,
            "margin": null,
            "max_height": null,
            "max_width": null,
            "min_height": null,
            "min_width": null,
            "object_fit": null,
            "object_position": null,
            "order": null,
            "overflow": null,
            "overflow_x": null,
            "overflow_y": null,
            "padding": null,
            "right": null,
            "top": null,
            "visibility": null,
            "width": null
          }
        },
        "5eeb49e7a8254bda82ff61cbd5899855": {
          "model_module": "@jupyter-widgets/controls",
          "model_name": "DescriptionStyleModel",
          "model_module_version": "1.5.0",
          "state": {
            "_model_module": "@jupyter-widgets/controls",
            "_model_module_version": "1.5.0",
            "_model_name": "DescriptionStyleModel",
            "_view_count": null,
            "_view_module": "@jupyter-widgets/base",
            "_view_module_version": "1.2.0",
            "_view_name": "StyleView",
            "description_width": ""
          }
        },
        "b6b9690845804397bdcaaa9336b796cc": {
          "model_module": "@jupyter-widgets/base",
          "model_name": "LayoutModel",
          "model_module_version": "1.2.0",
          "state": {
            "_model_module": "@jupyter-widgets/base",
            "_model_module_version": "1.2.0",
            "_model_name": "LayoutModel",
            "_view_count": null,
            "_view_module": "@jupyter-widgets/base",
            "_view_module_version": "1.2.0",
            "_view_name": "LayoutView",
            "align_content": null,
            "align_items": null,
            "align_self": null,
            "border": null,
            "bottom": null,
            "display": null,
            "flex": null,
            "flex_flow": null,
            "grid_area": null,
            "grid_auto_columns": null,
            "grid_auto_flow": null,
            "grid_auto_rows": null,
            "grid_column": null,
            "grid_gap": null,
            "grid_row": null,
            "grid_template_areas": null,
            "grid_template_columns": null,
            "grid_template_rows": null,
            "height": null,
            "justify_content": null,
            "justify_items": null,
            "left": null,
            "margin": null,
            "max_height": null,
            "max_width": null,
            "min_height": null,
            "min_width": null,
            "object_fit": null,
            "object_position": null,
            "order": null,
            "overflow": null,
            "overflow_x": null,
            "overflow_y": null,
            "padding": null,
            "right": null,
            "top": null,
            "visibility": null,
            "width": null
          }
        },
        "44b6cad9b033468ab1d67862edc09ec3": {
          "model_module": "@jupyter-widgets/controls",
          "model_name": "ProgressStyleModel",
          "model_module_version": "1.5.0",
          "state": {
            "_model_module": "@jupyter-widgets/controls",
            "_model_module_version": "1.5.0",
            "_model_name": "ProgressStyleModel",
            "_view_count": null,
            "_view_module": "@jupyter-widgets/base",
            "_view_module_version": "1.2.0",
            "_view_name": "StyleView",
            "bar_color": null,
            "description_width": ""
          }
        },
        "bd2d1d877a0f4c6db30a33ff972e3a68": {
          "model_module": "@jupyter-widgets/base",
          "model_name": "LayoutModel",
          "model_module_version": "1.2.0",
          "state": {
            "_model_module": "@jupyter-widgets/base",
            "_model_module_version": "1.2.0",
            "_model_name": "LayoutModel",
            "_view_count": null,
            "_view_module": "@jupyter-widgets/base",
            "_view_module_version": "1.2.0",
            "_view_name": "LayoutView",
            "align_content": null,
            "align_items": null,
            "align_self": null,
            "border": null,
            "bottom": null,
            "display": null,
            "flex": null,
            "flex_flow": null,
            "grid_area": null,
            "grid_auto_columns": null,
            "grid_auto_flow": null,
            "grid_auto_rows": null,
            "grid_column": null,
            "grid_gap": null,
            "grid_row": null,
            "grid_template_areas": null,
            "grid_template_columns": null,
            "grid_template_rows": null,
            "height": null,
            "justify_content": null,
            "justify_items": null,
            "left": null,
            "margin": null,
            "max_height": null,
            "max_width": null,
            "min_height": null,
            "min_width": null,
            "object_fit": null,
            "object_position": null,
            "order": null,
            "overflow": null,
            "overflow_x": null,
            "overflow_y": null,
            "padding": null,
            "right": null,
            "top": null,
            "visibility": null,
            "width": null
          }
        },
        "8ad6a33f4c654cb89302b75d07c80517": {
          "model_module": "@jupyter-widgets/controls",
          "model_name": "DescriptionStyleModel",
          "model_module_version": "1.5.0",
          "state": {
            "_model_module": "@jupyter-widgets/controls",
            "_model_module_version": "1.5.0",
            "_model_name": "DescriptionStyleModel",
            "_view_count": null,
            "_view_module": "@jupyter-widgets/base",
            "_view_module_version": "1.2.0",
            "_view_name": "StyleView",
            "description_width": ""
          }
        },
        "cd48a4a8e9e244d08493c384ef1a28cd": {
          "model_module": "@jupyter-widgets/controls",
          "model_name": "HBoxModel",
          "model_module_version": "1.5.0",
          "state": {
            "_dom_classes": [],
            "_model_module": "@jupyter-widgets/controls",
            "_model_module_version": "1.5.0",
            "_model_name": "HBoxModel",
            "_view_count": null,
            "_view_module": "@jupyter-widgets/controls",
            "_view_module_version": "1.5.0",
            "_view_name": "HBoxView",
            "box_style": "",
            "children": [
              "IPY_MODEL_ee4e1adcd6834f2abcf6b65a2acfea13",
              "IPY_MODEL_48540ed4768045bba0bb2b2dd0afc357",
              "IPY_MODEL_404e477a1901469e9604bb49a05bd160"
            ],
            "layout": "IPY_MODEL_4d4dc88d50e24fb389704d64ba5d7106"
          }
        },
        "ee4e1adcd6834f2abcf6b65a2acfea13": {
          "model_module": "@jupyter-widgets/controls",
          "model_name": "HTMLModel",
          "model_module_version": "1.5.0",
          "state": {
            "_dom_classes": [],
            "_model_module": "@jupyter-widgets/controls",
            "_model_module_version": "1.5.0",
            "_model_name": "HTMLModel",
            "_view_count": null,
            "_view_module": "@jupyter-widgets/controls",
            "_view_module_version": "1.5.0",
            "_view_name": "HTMLView",
            "description": "",
            "description_tooltip": null,
            "layout": "IPY_MODEL_d53f3049f8a24d019b76acb6dc7e56e3",
            "placeholder": "​",
            "style": "IPY_MODEL_2d0aca68425c452794dce1cf563f456e",
            "value": "100%"
          }
        },
        "48540ed4768045bba0bb2b2dd0afc357": {
          "model_module": "@jupyter-widgets/controls",
          "model_name": "FloatProgressModel",
          "model_module_version": "1.5.0",
          "state": {
            "_dom_classes": [],
            "_model_module": "@jupyter-widgets/controls",
            "_model_module_version": "1.5.0",
            "_model_name": "FloatProgressModel",
            "_view_count": null,
            "_view_module": "@jupyter-widgets/controls",
            "_view_module_version": "1.5.0",
            "_view_name": "ProgressView",
            "bar_style": "success",
            "description": "",
            "description_tooltip": null,
            "layout": "IPY_MODEL_3428b3d48ca2491aaf7a085b57f529ae",
            "max": 1082,
            "min": 0,
            "orientation": "horizontal",
            "style": "IPY_MODEL_19f00f6157c8455ca54cb583a2a2b802",
            "value": 1082
          }
        },
        "404e477a1901469e9604bb49a05bd160": {
          "model_module": "@jupyter-widgets/controls",
          "model_name": "HTMLModel",
          "model_module_version": "1.5.0",
          "state": {
            "_dom_classes": [],
            "_model_module": "@jupyter-widgets/controls",
            "_model_module_version": "1.5.0",
            "_model_name": "HTMLModel",
            "_view_count": null,
            "_view_module": "@jupyter-widgets/controls",
            "_view_module_version": "1.5.0",
            "_view_name": "HTMLView",
            "description": "",
            "description_tooltip": null,
            "layout": "IPY_MODEL_2b390fb7a54043ae9e20f30dd9700591",
            "placeholder": "​",
            "style": "IPY_MODEL_bd4a64f24f8447a6977800f004a06a17",
            "value": " 1082/1082 [15:00&lt;00:00,  1.56it/s, Epoch=1, Validation Loss=0.0344, Mean IOU Val=0.251, Mean DICE Val=0.501]"
          }
        },
        "4d4dc88d50e24fb389704d64ba5d7106": {
          "model_module": "@jupyter-widgets/base",
          "model_name": "LayoutModel",
          "model_module_version": "1.2.0",
          "state": {
            "_model_module": "@jupyter-widgets/base",
            "_model_module_version": "1.2.0",
            "_model_name": "LayoutModel",
            "_view_count": null,
            "_view_module": "@jupyter-widgets/base",
            "_view_module_version": "1.2.0",
            "_view_name": "LayoutView",
            "align_content": null,
            "align_items": null,
            "align_self": null,
            "border": null,
            "bottom": null,
            "display": null,
            "flex": null,
            "flex_flow": null,
            "grid_area": null,
            "grid_auto_columns": null,
            "grid_auto_flow": null,
            "grid_auto_rows": null,
            "grid_column": null,
            "grid_gap": null,
            "grid_row": null,
            "grid_template_areas": null,
            "grid_template_columns": null,
            "grid_template_rows": null,
            "height": null,
            "justify_content": null,
            "justify_items": null,
            "left": null,
            "margin": null,
            "max_height": null,
            "max_width": null,
            "min_height": null,
            "min_width": null,
            "object_fit": null,
            "object_position": null,
            "order": null,
            "overflow": null,
            "overflow_x": null,
            "overflow_y": null,
            "padding": null,
            "right": null,
            "top": null,
            "visibility": null,
            "width": null
          }
        },
        "d53f3049f8a24d019b76acb6dc7e56e3": {
          "model_module": "@jupyter-widgets/base",
          "model_name": "LayoutModel",
          "model_module_version": "1.2.0",
          "state": {
            "_model_module": "@jupyter-widgets/base",
            "_model_module_version": "1.2.0",
            "_model_name": "LayoutModel",
            "_view_count": null,
            "_view_module": "@jupyter-widgets/base",
            "_view_module_version": "1.2.0",
            "_view_name": "LayoutView",
            "align_content": null,
            "align_items": null,
            "align_self": null,
            "border": null,
            "bottom": null,
            "display": null,
            "flex": null,
            "flex_flow": null,
            "grid_area": null,
            "grid_auto_columns": null,
            "grid_auto_flow": null,
            "grid_auto_rows": null,
            "grid_column": null,
            "grid_gap": null,
            "grid_row": null,
            "grid_template_areas": null,
            "grid_template_columns": null,
            "grid_template_rows": null,
            "height": null,
            "justify_content": null,
            "justify_items": null,
            "left": null,
            "margin": null,
            "max_height": null,
            "max_width": null,
            "min_height": null,
            "min_width": null,
            "object_fit": null,
            "object_position": null,
            "order": null,
            "overflow": null,
            "overflow_x": null,
            "overflow_y": null,
            "padding": null,
            "right": null,
            "top": null,
            "visibility": null,
            "width": null
          }
        },
        "2d0aca68425c452794dce1cf563f456e": {
          "model_module": "@jupyter-widgets/controls",
          "model_name": "DescriptionStyleModel",
          "model_module_version": "1.5.0",
          "state": {
            "_model_module": "@jupyter-widgets/controls",
            "_model_module_version": "1.5.0",
            "_model_name": "DescriptionStyleModel",
            "_view_count": null,
            "_view_module": "@jupyter-widgets/base",
            "_view_module_version": "1.2.0",
            "_view_name": "StyleView",
            "description_width": ""
          }
        },
        "3428b3d48ca2491aaf7a085b57f529ae": {
          "model_module": "@jupyter-widgets/base",
          "model_name": "LayoutModel",
          "model_module_version": "1.2.0",
          "state": {
            "_model_module": "@jupyter-widgets/base",
            "_model_module_version": "1.2.0",
            "_model_name": "LayoutModel",
            "_view_count": null,
            "_view_module": "@jupyter-widgets/base",
            "_view_module_version": "1.2.0",
            "_view_name": "LayoutView",
            "align_content": null,
            "align_items": null,
            "align_self": null,
            "border": null,
            "bottom": null,
            "display": null,
            "flex": null,
            "flex_flow": null,
            "grid_area": null,
            "grid_auto_columns": null,
            "grid_auto_flow": null,
            "grid_auto_rows": null,
            "grid_column": null,
            "grid_gap": null,
            "grid_row": null,
            "grid_template_areas": null,
            "grid_template_columns": null,
            "grid_template_rows": null,
            "height": null,
            "justify_content": null,
            "justify_items": null,
            "left": null,
            "margin": null,
            "max_height": null,
            "max_width": null,
            "min_height": null,
            "min_width": null,
            "object_fit": null,
            "object_position": null,
            "order": null,
            "overflow": null,
            "overflow_x": null,
            "overflow_y": null,
            "padding": null,
            "right": null,
            "top": null,
            "visibility": null,
            "width": null
          }
        },
        "19f00f6157c8455ca54cb583a2a2b802": {
          "model_module": "@jupyter-widgets/controls",
          "model_name": "ProgressStyleModel",
          "model_module_version": "1.5.0",
          "state": {
            "_model_module": "@jupyter-widgets/controls",
            "_model_module_version": "1.5.0",
            "_model_name": "ProgressStyleModel",
            "_view_count": null,
            "_view_module": "@jupyter-widgets/base",
            "_view_module_version": "1.2.0",
            "_view_name": "StyleView",
            "bar_color": null,
            "description_width": ""
          }
        },
        "2b390fb7a54043ae9e20f30dd9700591": {
          "model_module": "@jupyter-widgets/base",
          "model_name": "LayoutModel",
          "model_module_version": "1.2.0",
          "state": {
            "_model_module": "@jupyter-widgets/base",
            "_model_module_version": "1.2.0",
            "_model_name": "LayoutModel",
            "_view_count": null,
            "_view_module": "@jupyter-widgets/base",
            "_view_module_version": "1.2.0",
            "_view_name": "LayoutView",
            "align_content": null,
            "align_items": null,
            "align_self": null,
            "border": null,
            "bottom": null,
            "display": null,
            "flex": null,
            "flex_flow": null,
            "grid_area": null,
            "grid_auto_columns": null,
            "grid_auto_flow": null,
            "grid_auto_rows": null,
            "grid_column": null,
            "grid_gap": null,
            "grid_row": null,
            "grid_template_areas": null,
            "grid_template_columns": null,
            "grid_template_rows": null,
            "height": null,
            "justify_content": null,
            "justify_items": null,
            "left": null,
            "margin": null,
            "max_height": null,
            "max_width": null,
            "min_height": null,
            "min_width": null,
            "object_fit": null,
            "object_position": null,
            "order": null,
            "overflow": null,
            "overflow_x": null,
            "overflow_y": null,
            "padding": null,
            "right": null,
            "top": null,
            "visibility": null,
            "width": null
          }
        },
        "bd4a64f24f8447a6977800f004a06a17": {
          "model_module": "@jupyter-widgets/controls",
          "model_name": "DescriptionStyleModel",
          "model_module_version": "1.5.0",
          "state": {
            "_model_module": "@jupyter-widgets/controls",
            "_model_module_version": "1.5.0",
            "_model_name": "DescriptionStyleModel",
            "_view_count": null,
            "_view_module": "@jupyter-widgets/base",
            "_view_module_version": "1.2.0",
            "_view_name": "StyleView",
            "description_width": ""
          }
        },
        "088028e2d64e4e2a85d30942c9865652": {
          "model_module": "@jupyter-widgets/controls",
          "model_name": "HBoxModel",
          "model_module_version": "1.5.0",
          "state": {
            "_dom_classes": [],
            "_model_module": "@jupyter-widgets/controls",
            "_model_module_version": "1.5.0",
            "_model_name": "HBoxModel",
            "_view_count": null,
            "_view_module": "@jupyter-widgets/controls",
            "_view_module_version": "1.5.0",
            "_view_name": "HBoxView",
            "box_style": "",
            "children": [
              "IPY_MODEL_910fc5aa93b74eb586022eb5433bdf04",
              "IPY_MODEL_bcab9ff8ac434817b255a6f340458d98",
              "IPY_MODEL_3a425d0a41d6423daa51176713e954e9"
            ],
            "layout": "IPY_MODEL_6d1d2d7d36a546219ed03e293437feaa"
          }
        },
        "910fc5aa93b74eb586022eb5433bdf04": {
          "model_module": "@jupyter-widgets/controls",
          "model_name": "HTMLModel",
          "model_module_version": "1.5.0",
          "state": {
            "_dom_classes": [],
            "_model_module": "@jupyter-widgets/controls",
            "_model_module_version": "1.5.0",
            "_model_name": "HTMLModel",
            "_view_count": null,
            "_view_module": "@jupyter-widgets/controls",
            "_view_module_version": "1.5.0",
            "_view_name": "HTMLView",
            "description": "",
            "description_tooltip": null,
            "layout": "IPY_MODEL_ceaf76a3f60743b4bfcbcb14bac4cab7",
            "placeholder": "​",
            "style": "IPY_MODEL_8b09f6f578444649bd1ab94f8a1602b0",
            "value": "100%"
          }
        },
        "bcab9ff8ac434817b255a6f340458d98": {
          "model_module": "@jupyter-widgets/controls",
          "model_name": "FloatProgressModel",
          "model_module_version": "1.5.0",
          "state": {
            "_dom_classes": [],
            "_model_module": "@jupyter-widgets/controls",
            "_model_module_version": "1.5.0",
            "_model_name": "FloatProgressModel",
            "_view_count": null,
            "_view_module": "@jupyter-widgets/controls",
            "_view_module_version": "1.5.0",
            "_view_name": "ProgressView",
            "bar_style": "success",
            "description": "",
            "description_tooltip": null,
            "layout": "IPY_MODEL_85c9215e91c145348889eb3c40f7440f",
            "max": 191,
            "min": 0,
            "orientation": "horizontal",
            "style": "IPY_MODEL_6ce9f00f4f8a4e2fae84bc1f97b2ba81",
            "value": 191
          }
        },
        "3a425d0a41d6423daa51176713e954e9": {
          "model_module": "@jupyter-widgets/controls",
          "model_name": "HTMLModel",
          "model_module_version": "1.5.0",
          "state": {
            "_dom_classes": [],
            "_model_module": "@jupyter-widgets/controls",
            "_model_module_version": "1.5.0",
            "_model_name": "HTMLModel",
            "_view_count": null,
            "_view_module": "@jupyter-widgets/controls",
            "_view_module_version": "1.5.0",
            "_view_name": "HTMLView",
            "description": "",
            "description_tooltip": null,
            "layout": "IPY_MODEL_507ba41306834a9ca55c1564e9e67fc4",
            "placeholder": "​",
            "style": "IPY_MODEL_672ee8cafebe41f88acbb373ac8e4f1b",
            "value": " 191/191 [05:10&lt;00:00,  1.49s/it, Epoch=2, Training Loss=0.0386, Mean IOU Train=0.25, Mean DICE Train=0.501]"
          }
        },
        "6d1d2d7d36a546219ed03e293437feaa": {
          "model_module": "@jupyter-widgets/base",
          "model_name": "LayoutModel",
          "model_module_version": "1.2.0",
          "state": {
            "_model_module": "@jupyter-widgets/base",
            "_model_module_version": "1.2.0",
            "_model_name": "LayoutModel",
            "_view_count": null,
            "_view_module": "@jupyter-widgets/base",
            "_view_module_version": "1.2.0",
            "_view_name": "LayoutView",
            "align_content": null,
            "align_items": null,
            "align_self": null,
            "border": null,
            "bottom": null,
            "display": null,
            "flex": null,
            "flex_flow": null,
            "grid_area": null,
            "grid_auto_columns": null,
            "grid_auto_flow": null,
            "grid_auto_rows": null,
            "grid_column": null,
            "grid_gap": null,
            "grid_row": null,
            "grid_template_areas": null,
            "grid_template_columns": null,
            "grid_template_rows": null,
            "height": null,
            "justify_content": null,
            "justify_items": null,
            "left": null,
            "margin": null,
            "max_height": null,
            "max_width": null,
            "min_height": null,
            "min_width": null,
            "object_fit": null,
            "object_position": null,
            "order": null,
            "overflow": null,
            "overflow_x": null,
            "overflow_y": null,
            "padding": null,
            "right": null,
            "top": null,
            "visibility": null,
            "width": null
          }
        },
        "ceaf76a3f60743b4bfcbcb14bac4cab7": {
          "model_module": "@jupyter-widgets/base",
          "model_name": "LayoutModel",
          "model_module_version": "1.2.0",
          "state": {
            "_model_module": "@jupyter-widgets/base",
            "_model_module_version": "1.2.0",
            "_model_name": "LayoutModel",
            "_view_count": null,
            "_view_module": "@jupyter-widgets/base",
            "_view_module_version": "1.2.0",
            "_view_name": "LayoutView",
            "align_content": null,
            "align_items": null,
            "align_self": null,
            "border": null,
            "bottom": null,
            "display": null,
            "flex": null,
            "flex_flow": null,
            "grid_area": null,
            "grid_auto_columns": null,
            "grid_auto_flow": null,
            "grid_auto_rows": null,
            "grid_column": null,
            "grid_gap": null,
            "grid_row": null,
            "grid_template_areas": null,
            "grid_template_columns": null,
            "grid_template_rows": null,
            "height": null,
            "justify_content": null,
            "justify_items": null,
            "left": null,
            "margin": null,
            "max_height": null,
            "max_width": null,
            "min_height": null,
            "min_width": null,
            "object_fit": null,
            "object_position": null,
            "order": null,
            "overflow": null,
            "overflow_x": null,
            "overflow_y": null,
            "padding": null,
            "right": null,
            "top": null,
            "visibility": null,
            "width": null
          }
        },
        "8b09f6f578444649bd1ab94f8a1602b0": {
          "model_module": "@jupyter-widgets/controls",
          "model_name": "DescriptionStyleModel",
          "model_module_version": "1.5.0",
          "state": {
            "_model_module": "@jupyter-widgets/controls",
            "_model_module_version": "1.5.0",
            "_model_name": "DescriptionStyleModel",
            "_view_count": null,
            "_view_module": "@jupyter-widgets/base",
            "_view_module_version": "1.2.0",
            "_view_name": "StyleView",
            "description_width": ""
          }
        },
        "85c9215e91c145348889eb3c40f7440f": {
          "model_module": "@jupyter-widgets/base",
          "model_name": "LayoutModel",
          "model_module_version": "1.2.0",
          "state": {
            "_model_module": "@jupyter-widgets/base",
            "_model_module_version": "1.2.0",
            "_model_name": "LayoutModel",
            "_view_count": null,
            "_view_module": "@jupyter-widgets/base",
            "_view_module_version": "1.2.0",
            "_view_name": "LayoutView",
            "align_content": null,
            "align_items": null,
            "align_self": null,
            "border": null,
            "bottom": null,
            "display": null,
            "flex": null,
            "flex_flow": null,
            "grid_area": null,
            "grid_auto_columns": null,
            "grid_auto_flow": null,
            "grid_auto_rows": null,
            "grid_column": null,
            "grid_gap": null,
            "grid_row": null,
            "grid_template_areas": null,
            "grid_template_columns": null,
            "grid_template_rows": null,
            "height": null,
            "justify_content": null,
            "justify_items": null,
            "left": null,
            "margin": null,
            "max_height": null,
            "max_width": null,
            "min_height": null,
            "min_width": null,
            "object_fit": null,
            "object_position": null,
            "order": null,
            "overflow": null,
            "overflow_x": null,
            "overflow_y": null,
            "padding": null,
            "right": null,
            "top": null,
            "visibility": null,
            "width": null
          }
        },
        "6ce9f00f4f8a4e2fae84bc1f97b2ba81": {
          "model_module": "@jupyter-widgets/controls",
          "model_name": "ProgressStyleModel",
          "model_module_version": "1.5.0",
          "state": {
            "_model_module": "@jupyter-widgets/controls",
            "_model_module_version": "1.5.0",
            "_model_name": "ProgressStyleModel",
            "_view_count": null,
            "_view_module": "@jupyter-widgets/base",
            "_view_module_version": "1.2.0",
            "_view_name": "StyleView",
            "bar_color": null,
            "description_width": ""
          }
        },
        "507ba41306834a9ca55c1564e9e67fc4": {
          "model_module": "@jupyter-widgets/base",
          "model_name": "LayoutModel",
          "model_module_version": "1.2.0",
          "state": {
            "_model_module": "@jupyter-widgets/base",
            "_model_module_version": "1.2.0",
            "_model_name": "LayoutModel",
            "_view_count": null,
            "_view_module": "@jupyter-widgets/base",
            "_view_module_version": "1.2.0",
            "_view_name": "LayoutView",
            "align_content": null,
            "align_items": null,
            "align_self": null,
            "border": null,
            "bottom": null,
            "display": null,
            "flex": null,
            "flex_flow": null,
            "grid_area": null,
            "grid_auto_columns": null,
            "grid_auto_flow": null,
            "grid_auto_rows": null,
            "grid_column": null,
            "grid_gap": null,
            "grid_row": null,
            "grid_template_areas": null,
            "grid_template_columns": null,
            "grid_template_rows": null,
            "height": null,
            "justify_content": null,
            "justify_items": null,
            "left": null,
            "margin": null,
            "max_height": null,
            "max_width": null,
            "min_height": null,
            "min_width": null,
            "object_fit": null,
            "object_position": null,
            "order": null,
            "overflow": null,
            "overflow_x": null,
            "overflow_y": null,
            "padding": null,
            "right": null,
            "top": null,
            "visibility": null,
            "width": null
          }
        },
        "672ee8cafebe41f88acbb373ac8e4f1b": {
          "model_module": "@jupyter-widgets/controls",
          "model_name": "DescriptionStyleModel",
          "model_module_version": "1.5.0",
          "state": {
            "_model_module": "@jupyter-widgets/controls",
            "_model_module_version": "1.5.0",
            "_model_name": "DescriptionStyleModel",
            "_view_count": null,
            "_view_module": "@jupyter-widgets/base",
            "_view_module_version": "1.2.0",
            "_view_name": "StyleView",
            "description_width": ""
          }
        },
        "c7ed9bf11b684167ac93f8053b12fd76": {
          "model_module": "@jupyter-widgets/controls",
          "model_name": "HBoxModel",
          "model_module_version": "1.5.0",
          "state": {
            "_dom_classes": [],
            "_model_module": "@jupyter-widgets/controls",
            "_model_module_version": "1.5.0",
            "_model_name": "HBoxModel",
            "_view_count": null,
            "_view_module": "@jupyter-widgets/controls",
            "_view_module_version": "1.5.0",
            "_view_name": "HBoxView",
            "box_style": "",
            "children": [
              "IPY_MODEL_224649d5a42d4ad09f3377b7c7ee997d",
              "IPY_MODEL_56ddd81addde482495fda4e3ee5f8756",
              "IPY_MODEL_a61c268a65794cdbb877785bde37d7dc"
            ],
            "layout": "IPY_MODEL_85b41c551c7d40ef853ff92ab920c0d2"
          }
        },
        "224649d5a42d4ad09f3377b7c7ee997d": {
          "model_module": "@jupyter-widgets/controls",
          "model_name": "HTMLModel",
          "model_module_version": "1.5.0",
          "state": {
            "_dom_classes": [],
            "_model_module": "@jupyter-widgets/controls",
            "_model_module_version": "1.5.0",
            "_model_name": "HTMLModel",
            "_view_count": null,
            "_view_module": "@jupyter-widgets/controls",
            "_view_module_version": "1.5.0",
            "_view_name": "HTMLView",
            "description": "",
            "description_tooltip": null,
            "layout": "IPY_MODEL_0002cf998bcd438b9a947503fcd550f0",
            "placeholder": "​",
            "style": "IPY_MODEL_abdb76a0e47d4850b280fb66783ab409",
            "value": "100%"
          }
        },
        "56ddd81addde482495fda4e3ee5f8756": {
          "model_module": "@jupyter-widgets/controls",
          "model_name": "FloatProgressModel",
          "model_module_version": "1.5.0",
          "state": {
            "_dom_classes": [],
            "_model_module": "@jupyter-widgets/controls",
            "_model_module_version": "1.5.0",
            "_model_name": "FloatProgressModel",
            "_view_count": null,
            "_view_module": "@jupyter-widgets/controls",
            "_view_module_version": "1.5.0",
            "_view_name": "ProgressView",
            "bar_style": "success",
            "description": "",
            "description_tooltip": null,
            "layout": "IPY_MODEL_cd6a8db506ed45e895ad5bc46f972994",
            "max": 1082,
            "min": 0,
            "orientation": "horizontal",
            "style": "IPY_MODEL_32ebb93af9e840e781eca3576b13a5fc",
            "value": 1082
          }
        },
        "a61c268a65794cdbb877785bde37d7dc": {
          "model_module": "@jupyter-widgets/controls",
          "model_name": "HTMLModel",
          "model_module_version": "1.5.0",
          "state": {
            "_dom_classes": [],
            "_model_module": "@jupyter-widgets/controls",
            "_model_module_version": "1.5.0",
            "_model_name": "HTMLModel",
            "_view_count": null,
            "_view_module": "@jupyter-widgets/controls",
            "_view_module_version": "1.5.0",
            "_view_name": "HTMLView",
            "description": "",
            "description_tooltip": null,
            "layout": "IPY_MODEL_26b670cb12ee4f8189f9e98cd6a284fb",
            "placeholder": "​",
            "style": "IPY_MODEL_342807d8023340d385fb3f0ae84b035c",
            "value": " 1082/1082 [15:23&lt;00:00,  1.41it/s, Epoch=2, Validation Loss=0.0309, Mean IOU Val=0.251, Mean DICE Val=0.501]"
          }
        },
        "85b41c551c7d40ef853ff92ab920c0d2": {
          "model_module": "@jupyter-widgets/base",
          "model_name": "LayoutModel",
          "model_module_version": "1.2.0",
          "state": {
            "_model_module": "@jupyter-widgets/base",
            "_model_module_version": "1.2.0",
            "_model_name": "LayoutModel",
            "_view_count": null,
            "_view_module": "@jupyter-widgets/base",
            "_view_module_version": "1.2.0",
            "_view_name": "LayoutView",
            "align_content": null,
            "align_items": null,
            "align_self": null,
            "border": null,
            "bottom": null,
            "display": null,
            "flex": null,
            "flex_flow": null,
            "grid_area": null,
            "grid_auto_columns": null,
            "grid_auto_flow": null,
            "grid_auto_rows": null,
            "grid_column": null,
            "grid_gap": null,
            "grid_row": null,
            "grid_template_areas": null,
            "grid_template_columns": null,
            "grid_template_rows": null,
            "height": null,
            "justify_content": null,
            "justify_items": null,
            "left": null,
            "margin": null,
            "max_height": null,
            "max_width": null,
            "min_height": null,
            "min_width": null,
            "object_fit": null,
            "object_position": null,
            "order": null,
            "overflow": null,
            "overflow_x": null,
            "overflow_y": null,
            "padding": null,
            "right": null,
            "top": null,
            "visibility": null,
            "width": null
          }
        },
        "0002cf998bcd438b9a947503fcd550f0": {
          "model_module": "@jupyter-widgets/base",
          "model_name": "LayoutModel",
          "model_module_version": "1.2.0",
          "state": {
            "_model_module": "@jupyter-widgets/base",
            "_model_module_version": "1.2.0",
            "_model_name": "LayoutModel",
            "_view_count": null,
            "_view_module": "@jupyter-widgets/base",
            "_view_module_version": "1.2.0",
            "_view_name": "LayoutView",
            "align_content": null,
            "align_items": null,
            "align_self": null,
            "border": null,
            "bottom": null,
            "display": null,
            "flex": null,
            "flex_flow": null,
            "grid_area": null,
            "grid_auto_columns": null,
            "grid_auto_flow": null,
            "grid_auto_rows": null,
            "grid_column": null,
            "grid_gap": null,
            "grid_row": null,
            "grid_template_areas": null,
            "grid_template_columns": null,
            "grid_template_rows": null,
            "height": null,
            "justify_content": null,
            "justify_items": null,
            "left": null,
            "margin": null,
            "max_height": null,
            "max_width": null,
            "min_height": null,
            "min_width": null,
            "object_fit": null,
            "object_position": null,
            "order": null,
            "overflow": null,
            "overflow_x": null,
            "overflow_y": null,
            "padding": null,
            "right": null,
            "top": null,
            "visibility": null,
            "width": null
          }
        },
        "abdb76a0e47d4850b280fb66783ab409": {
          "model_module": "@jupyter-widgets/controls",
          "model_name": "DescriptionStyleModel",
          "model_module_version": "1.5.0",
          "state": {
            "_model_module": "@jupyter-widgets/controls",
            "_model_module_version": "1.5.0",
            "_model_name": "DescriptionStyleModel",
            "_view_count": null,
            "_view_module": "@jupyter-widgets/base",
            "_view_module_version": "1.2.0",
            "_view_name": "StyleView",
            "description_width": ""
          }
        },
        "cd6a8db506ed45e895ad5bc46f972994": {
          "model_module": "@jupyter-widgets/base",
          "model_name": "LayoutModel",
          "model_module_version": "1.2.0",
          "state": {
            "_model_module": "@jupyter-widgets/base",
            "_model_module_version": "1.2.0",
            "_model_name": "LayoutModel",
            "_view_count": null,
            "_view_module": "@jupyter-widgets/base",
            "_view_module_version": "1.2.0",
            "_view_name": "LayoutView",
            "align_content": null,
            "align_items": null,
            "align_self": null,
            "border": null,
            "bottom": null,
            "display": null,
            "flex": null,
            "flex_flow": null,
            "grid_area": null,
            "grid_auto_columns": null,
            "grid_auto_flow": null,
            "grid_auto_rows": null,
            "grid_column": null,
            "grid_gap": null,
            "grid_row": null,
            "grid_template_areas": null,
            "grid_template_columns": null,
            "grid_template_rows": null,
            "height": null,
            "justify_content": null,
            "justify_items": null,
            "left": null,
            "margin": null,
            "max_height": null,
            "max_width": null,
            "min_height": null,
            "min_width": null,
            "object_fit": null,
            "object_position": null,
            "order": null,
            "overflow": null,
            "overflow_x": null,
            "overflow_y": null,
            "padding": null,
            "right": null,
            "top": null,
            "visibility": null,
            "width": null
          }
        },
        "32ebb93af9e840e781eca3576b13a5fc": {
          "model_module": "@jupyter-widgets/controls",
          "model_name": "ProgressStyleModel",
          "model_module_version": "1.5.0",
          "state": {
            "_model_module": "@jupyter-widgets/controls",
            "_model_module_version": "1.5.0",
            "_model_name": "ProgressStyleModel",
            "_view_count": null,
            "_view_module": "@jupyter-widgets/base",
            "_view_module_version": "1.2.0",
            "_view_name": "StyleView",
            "bar_color": null,
            "description_width": ""
          }
        },
        "26b670cb12ee4f8189f9e98cd6a284fb": {
          "model_module": "@jupyter-widgets/base",
          "model_name": "LayoutModel",
          "model_module_version": "1.2.0",
          "state": {
            "_model_module": "@jupyter-widgets/base",
            "_model_module_version": "1.2.0",
            "_model_name": "LayoutModel",
            "_view_count": null,
            "_view_module": "@jupyter-widgets/base",
            "_view_module_version": "1.2.0",
            "_view_name": "LayoutView",
            "align_content": null,
            "align_items": null,
            "align_self": null,
            "border": null,
            "bottom": null,
            "display": null,
            "flex": null,
            "flex_flow": null,
            "grid_area": null,
            "grid_auto_columns": null,
            "grid_auto_flow": null,
            "grid_auto_rows": null,
            "grid_column": null,
            "grid_gap": null,
            "grid_row": null,
            "grid_template_areas": null,
            "grid_template_columns": null,
            "grid_template_rows": null,
            "height": null,
            "justify_content": null,
            "justify_items": null,
            "left": null,
            "margin": null,
            "max_height": null,
            "max_width": null,
            "min_height": null,
            "min_width": null,
            "object_fit": null,
            "object_position": null,
            "order": null,
            "overflow": null,
            "overflow_x": null,
            "overflow_y": null,
            "padding": null,
            "right": null,
            "top": null,
            "visibility": null,
            "width": null
          }
        },
        "342807d8023340d385fb3f0ae84b035c": {
          "model_module": "@jupyter-widgets/controls",
          "model_name": "DescriptionStyleModel",
          "model_module_version": "1.5.0",
          "state": {
            "_model_module": "@jupyter-widgets/controls",
            "_model_module_version": "1.5.0",
            "_model_name": "DescriptionStyleModel",
            "_view_count": null,
            "_view_module": "@jupyter-widgets/base",
            "_view_module_version": "1.2.0",
            "_view_name": "StyleView",
            "description_width": ""
          }
        }
      }
    },
    "accelerator": "GPU"
  },
  "cells": [
    {
      "cell_type": "code",
      "execution_count": 4,
      "metadata": {
        "id": "piQ0joKJXopu"
      },
      "outputs": [],
      "source": [
        "!pip install opendatasets --quiet"
      ]
    },
    {
      "cell_type": "code",
      "source": [
        "import torch\n",
        "import torch.nn as nn\n",
        "import os\n",
        "import glob\n",
        "import opendatasets as od\n",
        "from PIL import Image\n",
        "import numpy as np\n",
        "import matplotlib.pyplot as plt\n",
        "from sklearn.cluster import KMeans\n",
        "from torch.utils.data import Dataset,DataLoader\n",
        "import torchvision.transforms as T\n",
        "import torch.nn.functional as F\n",
        "from tqdm import tqdm\n",
        "import zipfile\n",
        "import pandas as pd\n",
        "from sklearn.model_selection import train_test_split"
      ],
      "metadata": {
        "id": "sSbby60oX28S"
      },
      "execution_count": 5,
      "outputs": []
    },
    {
      "cell_type": "code",
      "source": [
        "od.download('https://www.kaggle.com/competitions/carvana-image-masking-challenge/data')"
      ],
      "metadata": {
        "colab": {
          "base_uri": "https://localhost:8080/"
        },
        "id": "5bsA4ntIX4eD",
        "outputId": "82729fe5-b8c6-46ce-f296-a61e30a6feef"
      },
      "execution_count": 6,
      "outputs": [
        {
          "output_type": "stream",
          "name": "stdout",
          "text": [
            "Downloading carvana-image-masking-challenge.zip to ./carvana-image-masking-challenge\n"
          ]
        },
        {
          "output_type": "stream",
          "name": "stderr",
          "text": [
            "100%|██████████| 24.4G/24.4G [11:10<00:00, 39.1MB/s]\n"
          ]
        },
        {
          "output_type": "stream",
          "name": "stdout",
          "text": [
            "\n",
            "Extracting archive ./carvana-image-masking-challenge/carvana-image-masking-challenge.zip to ./carvana-image-masking-challenge\n"
          ]
        }
      ]
    },
    {
      "cell_type": "code",
      "source": [
        "input_dir='carvana-image-masking-challenge'"
      ],
      "metadata": {
        "id": "emiu--fdYOEm"
      },
      "execution_count": 7,
      "outputs": []
    },
    {
      "cell_type": "code",
      "source": [
        "metadata=pd.read_csv(input_dir+'/metadata.csv.zip')"
      ],
      "metadata": {
        "id": "fO7qR4u1aalt"
      },
      "execution_count": 8,
      "outputs": []
    },
    {
      "cell_type": "code",
      "source": [
        "with zipfile.ZipFile(input_dir+\"/train.zip\", 'r') as zip_ref:\n",
        "    zip_ref.extractall(\".\")\n",
        "    \n",
        "with zipfile.ZipFile(input_dir+\"/train_masks.zip\", 'r') as zip_ref:\n",
        "    zip_ref.extractall(\".\")\n"
      ],
      "metadata": {
        "id": "ePUqFP1fa0IB"
      },
      "execution_count": 9,
      "outputs": []
    },
    {
      "cell_type": "code",
      "source": [
        "train_val=sorted(glob.glob('train/*'))"
      ],
      "metadata": {
        "id": "NSH7qKEQbh0v"
      },
      "execution_count": 10,
      "outputs": []
    },
    {
      "cell_type": "code",
      "source": [
        "train_val_images = [s.split(\"/\")[-1].split(\".\")[0] for s in train_val]"
      ],
      "metadata": {
        "id": "9AwSjDjycCXh"
      },
      "execution_count": 11,
      "outputs": []
    },
    {
      "cell_type": "code",
      "source": [
        "len(train_val_images)"
      ],
      "metadata": {
        "colab": {
          "base_uri": "https://localhost:8080/"
        },
        "id": "XrgQ2lpfcYea",
        "outputId": "2fd404cd-f058-43b0-df1e-227a7eac4ce1"
      },
      "execution_count": 12,
      "outputs": [
        {
          "output_type": "execute_result",
          "data": {
            "text/plain": [
              "5088"
            ]
          },
          "metadata": {},
          "execution_count": 12
        }
      ]
    },
    {
      "cell_type": "code",
      "source": [
        "x_train,x_val=train_test_split(train_val_images,test_size=0.85,random_state=42)"
      ],
      "metadata": {
        "id": "RiAL_ERtctD-"
      },
      "execution_count": 13,
      "outputs": []
    },
    {
      "cell_type": "code",
      "source": [
        "len(x_train),len(x_val)"
      ],
      "metadata": {
        "colab": {
          "base_uri": "https://localhost:8080/"
        },
        "id": "BgSXh2r-dBam",
        "outputId": "56eabdf6-a06a-413f-9293-2f531bacddc4"
      },
      "execution_count": 14,
      "outputs": [
        {
          "output_type": "execute_result",
          "data": {
            "text/plain": [
              "(763, 4325)"
            ]
          },
          "metadata": {},
          "execution_count": 14
        }
      ]
    },
    {
      "cell_type": "code",
      "source": [
        "x_train[0],x_val[0]"
      ],
      "metadata": {
        "colab": {
          "base_uri": "https://localhost:8080/"
        },
        "id": "WjGuio8kdMIi",
        "outputId": "95c2e799-28d6-468f-f850-95be7ae770d4"
      },
      "execution_count": 15,
      "outputs": [
        {
          "output_type": "execute_result",
          "data": {
            "text/plain": [
              "('08a646be6b30_06', '1ba84b81628e_14')"
            ]
          },
          "metadata": {},
          "execution_count": 15
        }
      ]
    },
    {
      "cell_type": "code",
      "source": [
        "class CarvanaDataset(Dataset):\n",
        "  def __init__(self,img_id,transform=True):\n",
        "    self.img_id=img_id\n",
        "    self.transform=transform\n",
        "  \n",
        "  def __len__(self):\n",
        "    return len(self.img_id)\n",
        "  \n",
        "  def __getitem__(self,idx):\n",
        "    img_id=self.img_id[idx]\n",
        "    img_path='train/'+img_id+'.jpg'\n",
        "    mask_path='train_masks/'+img_id+'_mask.gif'\n",
        "    image=np.asarray(Image.open(img_path))\n",
        "    mask=np.asarray(Image.open(mask_path).convert(\"L\"))\n",
        "    if self.transform:\n",
        "      img_trans=T.Compose([\n",
        "          T.ToTensor(),\n",
        "          T.Resize((576,576),antialias=True),\n",
        "          T.Normalize(mean=(0.485, 0.456, 0.406), std=(0.229, 0.224, 0.225))\n",
        "      ])\n",
        "      mask_trans=T.Compose([\n",
        "          T.ToTensor(),\n",
        "          T.Resize((576,576),antialias=True)\n",
        "      ])\n",
        "    return img_trans(image),mask_trans(mask)"
      ],
      "metadata": {
        "id": "QQiOeA55dTX1"
      },
      "execution_count": 16,
      "outputs": []
    },
    {
      "cell_type": "code",
      "source": [
        "train_ds=CarvanaDataset(x_train)\n",
        "val_ds=CarvanaDataset(x_val)"
      ],
      "metadata": {
        "id": "jbNu_YtZlZoC"
      },
      "execution_count": 17,
      "outputs": []
    },
    {
      "cell_type": "code",
      "source": [
        "batch_size=4"
      ],
      "metadata": {
        "id": "H8XNZvPllvPK"
      },
      "execution_count": 18,
      "outputs": []
    },
    {
      "cell_type": "code",
      "source": [
        "train_dl=DataLoader(train_ds,batch_size=batch_size)\n",
        "val_dl=DataLoader(val_ds,batch_size=batch_size)"
      ],
      "metadata": {
        "id": "BBsQNHJ7mZCf"
      },
      "execution_count": 19,
      "outputs": []
    },
    {
      "cell_type": "code",
      "source": [
        "def get_default_device():\n",
        "    \"\"\"Pick GPU if available, else CPU\"\"\"\n",
        "    if torch.cuda.is_available():\n",
        "        return torch.device('cuda')\n",
        "    else:\n",
        "        return torch.device('cpu')\n",
        "\n",
        "device=get_default_device()\n",
        "def to_device(data, device):\n",
        "    \"\"\"Move tensor(s) to chosen device\"\"\"\n",
        "    if isinstance(data, (list,tuple)):\n",
        "        return [to_device(x, device) for x in data]\n",
        "    return data.to(device, non_blocking=True)\n",
        "\n",
        "class DeviceDataLoader():\n",
        "    \"\"\"Wrap a dataloader to move data to a device\"\"\"\n",
        "    def __init__(self, dl, device):\n",
        "        self.dl = dl\n",
        "        self.device = device\n",
        "        \n",
        "    def __iter__(self):\n",
        "        \"\"\"Yield a batch of data after moving it to device\"\"\"\n",
        "        for b in self.dl: \n",
        "            yield to_device(b, self.device)\n",
        "\n",
        "    def __len__(self):\n",
        "        \"\"\"Number of batches\"\"\"\n",
        "        return len(self.dl)"
      ],
      "metadata": {
        "id": "ySvyPAW6modO"
      },
      "execution_count": 20,
      "outputs": []
    },
    {
      "cell_type": "code",
      "source": [
        "train_dl=DeviceDataLoader(train_dl,device)\n",
        "val_dl=DeviceDataLoader(val_dl,device)"
      ],
      "metadata": {
        "id": "36a7dxlImb1z"
      },
      "execution_count": 21,
      "outputs": []
    },
    {
      "cell_type": "code",
      "source": [
        "def conv_block(in_channel, out_channel):\n",
        "    return nn.Sequential(\n",
        "        nn.Conv2d(in_channels=in_channel,\n",
        "                  out_channels=out_channel, kernel_size=3,stride=1,padding=1),\n",
        "        nn.BatchNorm2d(out_channel),\n",
        "        nn.ReLU(inplace=True),\n",
        "        nn.Conv2d(in_channels=out_channel,\n",
        "                  out_channels=out_channel, kernel_size=3,stride=1,padding=1),\n",
        "        nn.BatchNorm2d(out_channel),\n",
        "        nn.ReLU(inplace=True)\n",
        "    )\n",
        "\n",
        "\n",
        "def up_conv_block(in_channel, out_channel):\n",
        "  return nn.ConvTranspose2d(in_channels=in_channel, out_channels=out_channel, kernel_size=2,stride=2)\n",
        "\n",
        "def copy_and_crop(left_tensor,right_tensor):\n",
        "    _, _, h, w = right_tensor.shape\n",
        "    crop = T.CenterCrop((h, w))(left_tensor)\n",
        "    output = torch.cat((crop,right_tensor), 1)\n",
        "    return output"
      ],
      "metadata": {
        "id": "xMQ0igpymcqL"
      },
      "execution_count": 22,
      "outputs": []
    },
    {
      "cell_type": "code",
      "source": [
        "class UNet(nn.Module):\n",
        "    def __init__(self, in_channels):\n",
        "        super().__init__()\n",
        "        self.in_channels = in_channels\n",
        "        # self.out_channels = out_channels\n",
        "        self.conv1 = conv_block(self.in_channels, 64) #\n",
        "        self.conv2 = conv_block(64, 128) #\n",
        "        self.conv3 = conv_block(128, 256) #\n",
        "        self.conv4 = conv_block(256, 512) #\n",
        "        self.conv5 = conv_block(512, 1024)\n",
        "        self.conv6 = up_conv_block(1024, 512)\n",
        "        self.conv7 = conv_block(1024, 512)\n",
        "        self.conv8 = up_conv_block(512, 256)\n",
        "        self.conv9 = conv_block(512, 256)\n",
        "        self.conv10 = up_conv_block(256, 128)\n",
        "        self.conv11 = conv_block(256, 128)\n",
        "        self.conv12 = up_conv_block(128, 64)\n",
        "        self.conv13 = conv_block(128,64)\n",
        "        self.conv14 = nn.Conv2d(in_channels=64,out_channels=1,kernel_size=(1,1))\n",
        "\n",
        "    def forward(self, x):\n",
        "        out1 = self.conv1(x)\n",
        "        out2 = self.conv2(nn.MaxPool2d(2)(out1))\n",
        "        out3 = self.conv3(nn.MaxPool2d(2)(out2))\n",
        "        out4 = self.conv4(nn.MaxPool2d(2)(out3))\n",
        "        out5 = self.conv5(nn.MaxPool2d(2)(out4))\n",
        "        out6 = self.conv6(out5)\n",
        "        out7 = self.conv7(copy_and_crop(out4, out6))\n",
        "        out8 = self.conv8(out7)\n",
        "        out9 = self.conv9(copy_and_crop(out3,out8))\n",
        "        out10 = self.conv10(out9)\n",
        "        out11 = self.conv11(copy_and_crop(out2,out10))\n",
        "        out12 = self.conv12(out11)\n",
        "        out13 = self.conv13(copy_and_crop(out1,out12))\n",
        "        out = self.conv14(out13)\n",
        "        return out"
      ],
      "metadata": {
        "id": "Vp0Xq33Ym1tp"
      },
      "execution_count": 23,
      "outputs": []
    },
    {
      "cell_type": "code",
      "source": [
        "model=to_device(UNet(3),device)"
      ],
      "metadata": {
        "id": "9KtSHbONm4N2"
      },
      "execution_count": 24,
      "outputs": []
    },
    {
      "cell_type": "code",
      "source": [
        "def Intersection_over_union(out,mask):\n",
        "  np_out=out.detach().cpu().numpy()\n",
        "  np_mask= mask.detach().cpu().numpy()\n",
        "  intersection = np.logical_and(np_out,np_mask).sum(axis=(2,3)).all()\n",
        "  union = np.logical_or(np_out,np_mask).sum(axis=(2,3)).all()\n",
        "  iou = intersection / union if union > 0 else 0.0\n",
        "  return iou/out.size(0)\n",
        "\n",
        "def dice_coefficient(out,mask):\n",
        "  np_out=out.detach().cpu().numpy()\n",
        "  np_mask= mask.detach().cpu().numpy()\n",
        "  intersection = np.logical_and(np_out,np_mask).sum(axis=(2,3)).all()\n",
        "  union = np.logical_or(np_out,np_mask).sum(axis=(2,3)).all()\n",
        "  dice_score= (2*intersection)/(union + intersection)\n",
        "  return dice_score/out.shape[0]\n",
        "\n",
        "def print_result():\n",
        "  fig,ax=plt.subplots(1,3,figsize=(8,10))\n",
        "  image,label=train_ds[0]\n",
        "  image=image.unsqueeze(0).to(device)\n",
        "  label=label.to(device)\n",
        "  out=model(image)\n",
        "  out1=out[:,0,:,:]>0.5\n",
        "  inverse_transform=T.Normalize(mean=(-0.485/0.229, -0.456/0.224, -0.406/0.225), std=(1/0.229, 1/0.224, 1/0.225))\n",
        "  ax[0].imshow(inverse_transform(image).squeeze(0).permute(1,2,0).detach().cpu().numpy())\n",
        "  ax[1].imshow(label.permute(1,2,0).detach().cpu().numpy())\n",
        "  ax[2].imshow(out1.squeeze(0).detach().cpu().numpy())\n",
        "  print('\\n')"
      ],
      "metadata": {
        "id": "wI20cFgjm6lZ"
      },
      "execution_count": 25,
      "outputs": []
    },
    {
      "cell_type": "code",
      "source": [
        "print_result()"
      ],
      "metadata": {
        "id": "3PNXmbowm8gq",
        "colab": {
          "base_uri": "https://localhost:8080/",
          "height": 300
        },
        "outputId": "b51bf01e-e0c9-4b8e-cfcf-5453a6cb5cca"
      },
      "execution_count": 26,
      "outputs": [
        {
          "output_type": "stream",
          "name": "stderr",
          "text": [
            "WARNING:matplotlib.image:Clipping input data to the valid range for imshow with RGB data ([0..1] for floats or [0..255] for integers).\n"
          ]
        },
        {
          "output_type": "stream",
          "name": "stdout",
          "text": [
            "\n",
            "\n"
          ]
        },
        {
          "output_type": "display_data",
          "data": {
            "text/plain": [
              "<Figure size 800x1000 with 3 Axes>"
            ],
            "image/png": "[encoded data removed]"
          },
          "metadata": {}
        }
      ]
    },
    {
      "cell_type": "code",
      "source": [
        "epochs=2\n",
        "lr=0.001\n",
        "opt_func=torch.optim.Adam\n",
        "criterion=nn.BCEWithLogitsLoss()\n",
        "optimizer=opt_func(model.parameters(),lr)\n",
        "lr_scheduler = torch.optim.lr_scheduler.ExponentialLR(optimizer=optimizer, gamma=0.7)"
      ],
      "metadata": {
        "id": "7YN9DlsJDCrI"
      },
      "execution_count": 27,
      "outputs": []
    },
    {
      "cell_type": "code",
      "source": [
        "from tqdm.notebook import tqdm"
      ],
      "metadata": {
        "id": "59wznd2DJgTO"
      },
      "execution_count": 28,
      "outputs": []
    },
    {
      "cell_type": "code",
      "source": [
        "def fit_one_cycle(epochs,lr_scheduler,model,train_loader,val_loader,optimizer,last_chk_pt=None):\n",
        "  torch.cuda.empty_cache()\n",
        "  history=[]\n",
        "  tr_loss_arr = []\n",
        "  val_loss_arr = []\n",
        "  meanioutrain = []\n",
        "  meaniouval = []\n",
        "  meandicetrain=[]\n",
        "  meandiceval=[]\n",
        "  prev_epoch = 0\n",
        "\n",
        "  if last_chk_pt!=None:\n",
        "    checkpoint=torch.load(last_chk_pt)\n",
        "    prev_epoch=checkpoint['epoch']\n",
        "    model.load_state_dict(checkpoint['model_state_dict'])\n",
        "    optimizer.load_state_dict(checkpoint['optimizer_state_dict'])\n",
        "    for state in optimizer.state.values():\n",
        "      for k, v in state.items():\n",
        "        if isinstance(v, torch.Tensor):\n",
        "          state[k] = to_device(v, device)\n",
        "          tr_loss_arr =  checkpoint['Training Loss']\n",
        "    val_loss_arr =  checkpoint['Validation Loss']\n",
        "    meanioutrain =  checkpoint['IOU train']\n",
        "    meaniouval =  checkpoint['IOU val']\n",
        "    meandicetrain =  checkpoint['Dice train']\n",
        "    meandiceval =  checkpoint['Dice val']\n",
        "    to_device(model, device)\n",
        "    \n",
        "  for epoch in range(epochs):\n",
        "    # Training Phase \n",
        "    model.train()\n",
        "\n",
        "    pbar=tqdm(train_loader,total=len(train_loader))\n",
        "    for images,mask in pbar:\n",
        "      images=images.to(device)\n",
        "      mask=mask.to(device)\n",
        "      out= model(images)\n",
        "      loss=criterion(out,mask)\n",
        "\n",
        "      optimizer.zero_grad()\n",
        "      loss.backward()\n",
        "      optimizer.step()\n",
        "      tr_loss_arr.append(loss.item())\n",
        "      meanioutrain.append(Intersection_over_union(out,mask))\n",
        "      meandicetrain.append(dice_coefficient(out,mask))\n",
        "      pbar.set_postfix({'Epoch':epoch+1+prev_epoch, \n",
        "                        'Training Loss': np.mean(tr_loss_arr),\n",
        "                        'Mean IOU Train': np.mean(meanioutrain),\n",
        "                        'Mean DICE Train': np.mean(meandicetrain)\n",
        "                        })\n",
        "\n",
        "    # Validation phase\n",
        "    with torch.no_grad():\n",
        "          \n",
        "      pbar = tqdm(val_loader, total = len(val_loader))\n",
        "      for images,mask in pbar:\n",
        "        images=images.to(device)\n",
        "        mask=mask.to(device)\n",
        "        model.eval()\n",
        "        out= model(images)\n",
        "\n",
        "        loss=criterion(out,mask)\n",
        "        val_loss_arr.append(loss.item())\n",
        "        meaniouval.append(Intersection_over_union(out,mask))\n",
        "        meandiceval.append(dice_coefficient(out,mask))\n",
        "        pbar.set_postfix({'Epoch':epoch+1+prev_epoch, \n",
        "                          'Validation Loss': np.mean(val_loss_arr),\n",
        "                          'Mean IOU Val': np.mean(meaniouval),\n",
        "                          'Mean DICE Val': np.mean(meandiceval)\n",
        "                          })\n",
        "    checkpoint = {\n",
        "            'epoch':epoch+1+prev_epoch,\n",
        "            'state_dict': model.state_dict(),\n",
        "            'optimizer_state_dict': optimizer.state_dict(),\n",
        "            'Training Loss': tr_loss_arr,\n",
        "            'Validation Loss':val_loss_arr,\n",
        "            'MeanIOU train':meanioutrain, \n",
        "            'MeanDice train':meandicetrain, \n",
        "            'MeanIOU val':meaniouval, \n",
        "            'MeanDice val':meandiceval\n",
        "        }\n",
        "    torch.save(checkpoint, f\"model_{epoch+1+prev_epoch}.pth\")\n",
        "    print_result()\n",
        "    lr_scheduler.step()\n",
        "  return tr_loss_arr, val_loss_arr, meanioutrain, meaniouval, meandicetrain, meandiceval"
      ],
      "metadata": {
        "id": "eejXSaiKAorz"
      },
      "execution_count": 32,
      "outputs": []
    },
    {
      "cell_type": "code",
      "source": [
        "history=[fit_one_cycle(epochs,lr_scheduler,model,train_dl,val_dl,optimizer)]"
      ],
      "metadata": {
        "colab": {
          "base_uri": "https://localhost:8080/",
          "height": 711,
          "referenced_widgets": [
            "f19acad7ed644bc1aee3913e0565fe99",
            "9ba9e2edf7f84ce3b5c1f2b30d276d9d",
            "a4aa482d4c254bde85f5d7245afac0c0",
            "9ea15849f7944e5597decf9cd21efc0e",
            "e7b382aa5fc8431792b513a6d93f8b36",
            "535f2583e300466fafc2735b760d85c5",
            "5eeb49e7a8254bda82ff61cbd5899855",
            "b6b9690845804397bdcaaa9336b796cc",
            "44b6cad9b033468ab1d67862edc09ec3",
            "bd2d1d877a0f4c6db30a33ff972e3a68",
            "8ad6a33f4c654cb89302b75d07c80517",
            "cd48a4a8e9e244d08493c384ef1a28cd",
            "ee4e1adcd6834f2abcf6b65a2acfea13",
            "48540ed4768045bba0bb2b2dd0afc357",
            "404e477a1901469e9604bb49a05bd160",
            "4d4dc88d50e24fb389704d64ba5d7106",
            "d53f3049f8a24d019b76acb6dc7e56e3",
            "2d0aca68425c452794dce1cf563f456e",
            "3428b3d48ca2491aaf7a085b57f529ae",
            "19f00f6157c8455ca54cb583a2a2b802",
            "2b390fb7a54043ae9e20f30dd9700591",
            "bd4a64f24f8447a6977800f004a06a17",
            "088028e2d64e4e2a85d30942c9865652",
            "910fc5aa93b74eb586022eb5433bdf04",
            "bcab9ff8ac434817b255a6f340458d98",
            "3a425d0a41d6423daa51176713e954e9",
            "6d1d2d7d36a546219ed03e293437feaa",
            "ceaf76a3f60743b4bfcbcb14bac4cab7",
            "8b09f6f578444649bd1ab94f8a1602b0",
            "85c9215e91c145348889eb3c40f7440f",
            "6ce9f00f4f8a4e2fae84bc1f97b2ba81",
            "507ba41306834a9ca55c1564e9e67fc4",
            "672ee8cafebe41f88acbb373ac8e4f1b",
            "c7ed9bf11b684167ac93f8053b12fd76",
            "224649d5a42d4ad09f3377b7c7ee997d",
            "56ddd81addde482495fda4e3ee5f8756",
            "a61c268a65794cdbb877785bde37d7dc",
            "85b41c551c7d40ef853ff92ab920c0d2",
            "0002cf998bcd438b9a947503fcd550f0",
            "abdb76a0e47d4850b280fb66783ab409",
            "cd6a8db506ed45e895ad5bc46f972994",
            "32ebb93af9e840e781eca3576b13a5fc",
            "26b670cb12ee4f8189f9e98cd6a284fb",
            "342807d8023340d385fb3f0ae84b035c"
          ]
        },
        "id": "nfHCEZOiHeqw",
        "outputId": "6c1f0488-118c-4983-c188-f48c02c853b0"
      },
      "execution_count": 33,
      "outputs": [
        {
          "output_type": "display_data",
          "data": {
            "text/plain": [
              "  0%|          | 0/191 [00:00<?, ?it/s]"
            ],
            "application/vnd.jupyter.widget-view+json": {
              "version_major": 2,
              "version_minor": 0,
              "model_id": "f19acad7ed644bc1aee3913e0565fe99"
            }
          },
          "metadata": {}
        },
        {
          "output_type": "display_data",
          "data": {
            "text/plain": [
              "  0%|          | 0/1082 [00:00<?, ?it/s]"
            ],
            "application/vnd.jupyter.widget-view+json": {
              "version_major": 2,
              "version_minor": 0,
              "model_id": "cd48a4a8e9e244d08493c384ef1a28cd"
            }
          },
          "metadata": {}
        },
        {
          "output_type": "stream",
          "name": "stderr",
          "text": [
            "WARNING:matplotlib.image:Clipping input data to the valid range for imshow with RGB data ([0..1] for floats or [0..255] for integers).\n"
          ]
        },
        {
          "output_type": "stream",
          "name": "stdout",
          "text": [
            "\n",
            "\n"
          ]
        },
        {
          "output_type": "display_data",
          "data": {
            "text/plain": [
              "  0%|          | 0/191 [00:00<?, ?it/s]"
            ],
            "application/vnd.jupyter.widget-view+json": {
              "version_major": 2,
              "version_minor": 0,
              "model_id": "088028e2d64e4e2a85d30942c9865652"
            }
          },
          "metadata": {}
        },
        {
          "output_type": "display_data",
          "data": {
            "text/plain": [
              "  0%|          | 0/1082 [00:00<?, ?it/s]"
            ],
            "application/vnd.jupyter.widget-view+json": {
              "version_major": 2,
              "version_minor": 0,
              "model_id": "c7ed9bf11b684167ac93f8053b12fd76"
            }
          },
          "metadata": {}
        },
        {
          "output_type": "stream",
          "name": "stderr",
          "text": [
            "WARNING:matplotlib.image:Clipping input data to the valid range for imshow with RGB data ([0..1] for floats or [0..255] for integers).\n"
          ]
        },
        {
          "output_type": "stream",
          "name": "stdout",
          "text": [
            "\n",
            "\n"
          ]
        },
        {
          "output_type": "display_data",
          "data": {
            "text/plain": [
              "<Figure size 800x1000 with 3 Axes>"
            ],
            "image/png": "[encoded data removed]"
          },
          "metadata": {}
        },
        {
          "output_type": "display_data",
          "data": {
            "text/plain": [
              "<Figure size 800x1000 with 3 Axes>"
            ],
            "image/png": "[encoded data removed]"
          },
          "metadata": {}
        }
      ]
    },
    {
      "cell_type": "code",
      "source": [
        "def print_result():\n",
        "  fig,ax=plt.subplots(1,3,figsize=(8,10))\n",
        "  image,label=val_ds[0]\n",
        "  image=image.unsqueeze(0).to(device)\n",
        "  label=label.to(device)\n",
        "  out=model(image)\n",
        "  out1=out[:,0,:,:]>0.5\n",
        "  inverse_transform=T.Normalize(mean=(-0.485/0.229, -0.456/0.224, -0.406/0.225), std=(1/0.229, 1/0.224, 1/0.225))\n",
        "  ax[0].imshow(inverse_transform(image).squeeze(0).permute(1,2,0).detach().cpu().numpy())\n",
        "  ax[1].imshow(label.permute(1,2,0).detach().cpu().numpy())\n",
        "  ax[2].imshow(out1.squeeze(0).detach().cpu().numpy())\n",
        "  print('\\n')"
      ],
      "metadata": {
        "id": "EUBL74xMJQCA"
      },
      "execution_count": 34,
      "outputs": []
    },
    {
      "cell_type": "code",
      "source": [
        "print_result()"
      ],
      "metadata": {
        "colab": {
          "base_uri": "https://localhost:8080/",
          "height": 283
        },
        "id": "1tXUnTCPZPbz",
        "outputId": "1b7fb83b-2947-48ca-f0c8-e36b71d0be80"
      },
      "execution_count": 35,
      "outputs": [
        {
          "output_type": "stream",
          "name": "stdout",
          "text": [
            "\n",
            "\n"
          ]
        },
        {
          "output_type": "display_data",
          "data": {
            "text/plain": [
              "<Figure size 800x1000 with 3 Axes>"
            ],
            "image/png": "[encoded data removed]"
          },
          "metadata": {}
        }
      ]
    },
    {
      "cell_type": "code",
      "source": [],
      "metadata": {
        "id": "7LYfoPQWZRI2"
      },
      "execution_count": null,
      "outputs": []
    }
  ]
}